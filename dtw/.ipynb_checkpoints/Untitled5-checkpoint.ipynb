{
 "metadata": {
  "name": "",
  "signature": "sha256:ff80ad8736432d33bd8d9a18d978525a9571209e3a9e9f8d3c6c6bdac54dd7d0"
 },
 "nbformat": 3,
 "nbformat_minor": 0,
 "worksheets": []
}